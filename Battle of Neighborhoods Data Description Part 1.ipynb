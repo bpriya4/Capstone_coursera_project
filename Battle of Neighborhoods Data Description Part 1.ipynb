{
    "cells": [
        {
            "cell_type": "markdown",
            "metadata": {
                "collapsed": true
            },
            "source": "## The Battle of Neighborhoods | Data Description\n\n### Data Description:\n\nScarborough is a popular destination for new immigrants in Canada to reside. As a result, it is one of the most diverse and multicultural areas in the Greater Toronto Area, being home to various religious groups and places of worship. It includes a number of natural landmarks, including the Toronto Zoo, Rouge Park and the Scarborough Bluffs. The northeast corner of Scarborough is largely rural with some of Toronto\u2019s last remaining farms, earning Scarborough its reputation of being greener than any other part of Toronto\n\nData Link: https://en.wikipedia.org/wiki/List_of_postal_codes_of_Canada:_M\n\n\n\n\n\n### Foursquare API Data:\n\nWe will need data about different venues in different neighborhoods of that specific borough. In order to gain that information we will use \"Foursquare\" locational information. Foursquare is a location data provider with information about all manner of venues and events within an area of interest. Such information includes venue names, locations, menus and even photos. As such, the foursquare location platform will be used as the sole data source since all the stated required information can be obtained through the API.\n\nAfter finding the list of neighborhoods, we then connect to the Foursquare API to gather information about venues inside each and every neighborhood. For each neighborhood, we have chosen the radius to be 100 meter.\n\nFoursquare Developers Access to venue data: https://foursquare.com/\n\nThe data retrieved from Foursquare contained information of venues within a specified distance of the longitude and latitude of the postcodes. The information obtained per venue as follows:\n\n1. Neighborhood\n2. Neighborhood Latitude\n3. Neighborhood Longitude\n4. Venue\n5. Name of the venue e.g. the name of a store or restaurant\n6. Venue Latitude\n7. Venue Longitude"
        },
        {
            "cell_type": "markdown",
            "metadata": {},
            "source": "### Geospatial data\n\nGeospatial data, or spatial data (as it's sometimes known), is information that has a geographic aspect to it. In other words, the records in this type of information set have coordinates, an address, city, postal code, or zip code included with them. The most obvious example is a road map. We see the rendered result, but the features on the map are stored with this type of information included in them.\n\nThere are two basic types or forms of geospatial data:\n\nVector - This form uses points, lines, and polygons to represent spatial features such as cities, roads, and streams.\n\nRaster - This form uses cells (computers often use dots or pixels) to represent spatial features. Cities are single cells, roads are linear sequences of cells, and streams are collections of adjacent cells. An example of this is remote satellite data.\n\n\nData Source: http://cocl.us/Geospatial_data"
        },
        {
            "cell_type": "code",
            "execution_count": null,
            "metadata": {},
            "outputs": [],
            "source": ""
        }
    ],
    "metadata": {
        "kernelspec": {
            "display_name": "Python 3.7",
            "language": "python",
            "name": "python3"
        },
        "language_info": {
            "codemirror_mode": {
                "name": "ipython",
                "version": 3
            },
            "file_extension": ".py",
            "mimetype": "text/x-python",
            "name": "python",
            "nbconvert_exporter": "python",
            "pygments_lexer": "ipython3",
            "version": "3.7.9"
        }
    },
    "nbformat": 4,
    "nbformat_minor": 1
}